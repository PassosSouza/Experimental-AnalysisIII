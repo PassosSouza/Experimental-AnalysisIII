{
 "cells": [
  {
   "cell_type": "markdown",
   "metadata": {
    "id": "Y1p7NTFPINQD"
   },
   "source": [
    "---\n",
    "\n",
    "---\n",
    "\n",
    "\n",
    "Código para análise de dados do Experimento 3 de Laboratório de Física I\n",
    "\n",
    "Feito pelo aluno\n",
    "\n",
    " Vinícius dos Passos de Souza, RA: 11201922119\n",
    "\n",
    "---\n",
    "\n"
   ]
  },
  {
   "cell_type": "markdown",
   "metadata": {
    "id": "lAuefR9LHZ6I"
   },
   "source": [
    "**Para este experimento os ajustes de funções foram feitos com a função Scipy** "
   ]
  },
  {
   "cell_type": "markdown",
   "metadata": {
    "id": "kz-xUmU69sXx"
   },
   "source": [
    "Para este experimento foram feitas diversas medidas que devem ser analisadas separadamente, por isso esse código terá as partes."
   ]
  },
  {
   "cell_type": "markdown",
   "metadata": {
    "id": "AuGCCzCrjEeM"
   },
   "source": [
    "**Análise de pequenas oscilações quando $z =0.33450 \\pm 0.00005$**"
   ]
  },
  {
   "cell_type": "code",
   "execution_count": 51,
   "metadata": {
    "colab": {
     "base_uri": "https://localhost:8080/",
     "height": 397
    },
    "id": "hBuXYZCT60Qk",
    "outputId": "599521e9-418b-4590-da9e-29c75d4534b8"
   },
   "outputs": [],
   "source": [
    "#Adicionar excel aqui e ler ele\n",
    "import pandas as pd\n",
    "\n",
    "x = [[],[],[],[],[]]#tempos\n",
    "y = [[],[],[],[],[]]#angulos\n",
    "\n",
    "for i in range(5):\n",
    "    data = pd.read_csv(f'Dados1\\conf_1_pos_angular_{i+1}.txt', sep = \"\t\")\n",
    "    y[i] = data['Posicao angular ( rad )'].values\n",
    "    x[i] = data['Tempo ( s )'].values\n",
    "#the1 = data1['Posicao angular ( rad )'].values\n",
    "#t1=data1['Tempo ( s )'].values\n"
   ]
  },
  {
   "cell_type": "markdown",
   "metadata": {},
   "source": [
    "**ACHANDO Picos COM SCIPY**\n"
   ]
  },
  {
   "cell_type": "code",
   "execution_count": 52,
   "metadata": {},
   "outputs": [],
   "source": [
    "from scipy.signal import find_peaks\n",
    "import numpy as np\n",
    "\n",
    "ind = [[],[],[],[],[]]\n",
    "for i in range(5):\n",
    "    peaks= find_peaks(y[i],height=0)\n",
    "    ind[i] = peaks[0]\n",
    "\n",
    "#variaveis que vou usar\n",
    "th= [np.ones(len(ind[0])),np.ones(len(ind[1])),np.ones(len(ind[2])),\n",
    "      np.ones(len(ind[3])),np.ones(len(ind[4]))] #picos\n",
    "t_peaks =  [np.ones(len(ind[0])),np.ones(len(ind[1])),np.ones(len(ind[2])),\n",
    "      np.ones(len(ind[3])),np.ones(len(ind[4]))] #tempos de picos\n",
    "#arrumar tempos e picos\n",
    "\n",
    "for j in range(len(ind)):\n",
    "    u = 0\n",
    "    for i in ind[j]:\n",
    "        t_peaks[j][u]=x[j][i]\n",
    "        th[j][u] = y[j][i]\n",
    "        u=u+1\n",
    "\n",
    "    \n"
   ]
  },
  {
   "cell_type": "code",
   "execution_count": 53,
   "metadata": {},
   "outputs": [
    {
     "data": {
      "image/png": "[encoded data removed]",
      "text/plain": [
       "<Figure size 432x288 with 1 Axes>"
      ]
     },
     "metadata": {
      "needs_background": "light"
     },
     "output_type": "display_data"
    }
   ],
   "source": [
    "from matplotlib import pyplot as plt\n",
    "\n",
    "plt.plot(x[0],y[0],'o',color='gray')\n",
    "plt.plot(t_peaks[0], th[0], \"x\",color='red')\n",
    "\n",
    "\n",
    "plt.ylabel('Ângulo (rad)')\n",
    "plt.xlabel('Tempo percorrido (s)')\n",
    "#plt.ylim(0,0.27)\n",
    "#plt.xlim(2,15)\n",
    "plt.title('Ângulo(rad) VS Tempo percorrido (s)')\n",
    "plt.show()"
   ]
  },
  {
   "cell_type": "markdown",
   "metadata": {},
   "source": [
    "Achar período dados os tempos"
   ]
  },
  {
   "cell_type": "code",
   "execution_count": 54,
   "metadata": {},
   "outputs": [
    {
     "name": "stdout",
     "output_type": "stream",
     "text": [
      "[1.16, 1.16, 1.155, 1.16, 1.155, 1.16, 1.155, 1.16, 1.16, 1.155, 1.16, 1.155, 1.16, 1.155, 1.16, 1.155, 1.16, 1.155, 1.16, 1.155]\n"
     ]
    }
   ],
   "source": [
    "T1 = [[],[],[],[],[]] #picos\n",
    "for u in range(5):\n",
    "    for i in range(len(t_peaks[u])-1):\n",
    "        T1[u].append(round(t_peaks[u][i+1]-t_peaks[u][i],3))\n",
    "    \n",
    "print(T1[0])#printar um intervalo ae"
   ]
  },
  {
   "cell_type": "markdown",
   "metadata": {},
   "source": [
    "**Cálculo da Média do periodo e do Desvio padrão**"
   ]
  },
  {
   "cell_type": "markdown",
   "metadata": {},
   "source": [
    "Para cálculo do T usarei \n",
    "\n",
    "$T_m = \\frac{1}{N}\\sum_{i=1}^nT_i $\n",
    "\n",
    "$\\sigma_T = \\frac{1}{\\sqrt{N(N-1)}}\\sqrt{ \\sum_{i}(T_m-T_i )^2}$"
   ]
  },
  {
   "cell_type": "code",
   "execution_count": 55,
   "metadata": {},
   "outputs": [
    {
     "name": "stdout",
     "output_type": "stream",
     "text": [
      "T = 1.1578+-0.0006\n",
      "T = 1.1558+-0.0007\n",
      "T = 1.1536+-0.0009\n",
      "T = 1.1536+-0.0007\n",
      "T = 1.1534+-0.0007\n"
     ]
    }
   ],
   "source": [
    "T_m1 = np.ones(5)\n",
    "eT_m1=np.ones(5)\n",
    "for u in range(5):\n",
    "    sum=0\n",
    "    for i in T1[u]:\n",
    "        sum = sum+i\n",
    "    T_m1[u]=sum/len(T1[u])\n",
    "for u in range(5):\n",
    "    et=0\n",
    "    for i in T1[u]:\n",
    "        et= et+ (T_m1[u]-i)**2\n",
    "    eT_m1[u]=np.sqrt(et/(len(T1[u])*(len(T1[u])-1)))\n",
    "\n",
    "    print(f'T = {round(T_m1[u],4)}+-{round(eT_m1[u],4)}')"
   ]
  },
  {
   "cell_type": "code",
   "execution_count": 56,
   "metadata": {},
   "outputs": [
    {
     "name": "stdout",
     "output_type": "stream",
     "text": [
      "T_medio=1.1548400432900434+-0.0008532387090798289\n"
     ]
    }
   ],
   "source": [
    "Tm1 = 0\n",
    "eTm1=0\n",
    "for i in T_m1:\n",
    "    Tm1 = Tm1+i\n",
    "Tm1=Tm1/5\n",
    "for i in T_m1:\n",
    "    eTm1+=(Tm1-i)**2\n",
    "eTm1 = np.sqrt(eTm1/(5*(5-1)))\n",
    "print(f'T_medio={Tm1}+-{eTm1}')"
   ]
  },
  {
   "cell_type": "markdown",
   "metadata": {},
   "source": [
    "**Mesmo do que foi feito antes, porém para um momento de inércia diferente**\n",
    "\n",
    "$z_2 = 15.600(5)cm$"
   ]
  },
  {
   "cell_type": "code",
   "execution_count": 107,
   "metadata": {},
   "outputs": [],
   "source": [
    "#Adicionar excel aqui e ler ele\n",
    "import pandas as pd\n",
    "\n",
    "x = [[],[],[],[],[]]#tempos\n",
    "y = [[],[],[],[],[]]#angulos\n",
    "\n",
    "for i in range(5):\n",
    "    data2 = pd.read_csv(f'Dados2\\conf_2_pos_angular_{i+1}.txt', sep = \"\t\")\n",
    "    y[i] = data2['Posicao angular ( rad )'].values\n",
    "    x[i] = data2['Tempo ( s )'].values\n",
    "#the1 = data1['Posicao angular ( rad )'].values\n",
    "#t1=data1['Tempo ( s )'].values\n"
   ]
  },
  {
   "cell_type": "code",
   "execution_count": 108,
   "metadata": {},
   "outputs": [
    {
     "name": "stdout",
     "output_type": "stream",
     "text": [
      "17\n"
     ]
    }
   ],
   "source": [
    "from scipy.signal import find_peaks\n",
    "import numpy as np\n",
    "\n",
    "ind2 = [[],[],[],[],[]]\n",
    "for i in range(5):\n",
    "    peaks= find_peaks(y[i],height=0)\n",
    "    ind2[i] = peaks[0]\n",
    "\n",
    "#variaveis que vou usar\n",
    "th2= [np.ones(len(ind2[0])),np.ones(len(ind2[1])),np.ones(len(ind2[2])),\n",
    "      np.ones(len(ind2[3])),np.ones(len(ind2[4]))] #picos\n",
    "t_peaks2 =  [np.ones(len(ind2[0])),np.ones(len(ind2[1])),np.ones(len(ind2[2])),\n",
    "      np.ones(len(ind2[3])),np.ones(len(ind2[4]))] #tempos de picos\n",
    "#arrumar tempos e picos\n",
    "\n",
    "for j in range(len(ind2)):\n",
    "    u = 0\n",
    "    for i in ind2[j]:\n",
    "        t_peaks2[j][u]=x[j][i]\n",
    "        th2[j][u] = y[j][i]\n",
    "        u=u+1\n"
   ]
  },
  {
   "cell_type": "code",
   "execution_count": 109,
   "metadata": {},
   "outputs": [
    {
     "data": {
      "image/png": "[encoded data removed]",
      "text/plain": [
       "<Figure size 432x288 with 1 Axes>"
      ]
     },
     "metadata": {
      "needs_background": "light"
     },
     "output_type": "display_data"
    }
   ],
   "source": [
    "from matplotlib import pyplot as plt\n",
    "\n",
    "plt.plot(x[0],y[0],'o',color='gray')\n",
    "plt.plot(t_peaks2[0], th2[0], \"x\",color='red')\n",
    "\n",
    "\n",
    "plt.ylabel('Ângulo (rad)')\n",
    "plt.xlabel('Tempo percorrido (s)')\n",
    "#plt.ylim(0,0.27)\n",
    "#plt.xlim(2,15)\n",
    "plt.title('Ângulo(rad) VS Tempo percorrido (s)')\n",
    "plt.show()"
   ]
  },
  {
   "cell_type": "code",
   "execution_count": 110,
   "metadata": {},
   "outputs": [
    {
     "name": "stdout",
     "output_type": "stream",
     "text": [
      "[0.865, 0.87, 0.87, 0.865, 0.87, 0.865, 0.865, 0.87, 0.865, 0.87, 0.865, 0.865, 0.865, 0.87, 0.865, 0.87]\n"
     ]
    }
   ],
   "source": [
    "T2 = [[],[],[],[],[]] #picos\n",
    "for u in range(5):\n",
    "    for i in range(len(t_peaks2[u])-1):\n",
    "        T2[u].append(round(t_peaks2[u][i+1]-t_peaks2[u][i],3))\n",
    "    \n",
    "print(T2[0])#printar um intervalo ae"
   ]
  },
  {
   "cell_type": "code",
   "execution_count": 111,
   "metadata": {},
   "outputs": [
    {
     "name": "stdout",
     "output_type": "stream",
     "text": [
      "T = 0.8672+-0.0006\n",
      "T = 0.8656+-0.0009\n",
      "T = 0.8647+-0.0009\n",
      "T = 0.8662+-0.0007\n",
      "T = 0.8647+-0.0009\n"
     ]
    }
   ],
   "source": [
    "T_m2 = np.ones(5)\n",
    "eT_m2=np.ones(5)\n",
    "for u in range(5):\n",
    "    sum=0\n",
    "    for i in T2[u]:\n",
    "        sum = sum+i\n",
    "    T_m2[u]=sum/len(T2[u])\n",
    "for u in range(5):\n",
    "    et=0\n",
    "    for i in T2[u]:\n",
    "        et= et+ (T_m2[u]-i)**2\n",
    "    eT_m2[u]=np.sqrt(et/(len(T2[u])*(len(T2[u])-1)))\n",
    "\n",
    "    print(f'T = {round(T_m2[u],4)}+-{round(eT_m2[u],4)}')"
   ]
  },
  {
   "cell_type": "code",
   "execution_count": 112,
   "metadata": {},
   "outputs": [
    {
     "name": "stdout",
     "output_type": "stream",
     "text": [
      "T_medio=0.8656875000000002+-0.00047803307939929963\n"
     ]
    }
   ],
   "source": [
    "Tm2 = 0\n",
    "eTm2=0\n",
    "for i in T_m2:\n",
    "    Tm2 = Tm2+i\n",
    "Tm2=Tm2/5\n",
    "for i in T_m2:\n",
    "    eTm2+=(Tm2-i)**2\n",
    "eTm2 = np.sqrt(eTm2/(5*(5-1)))\n",
    "print(f'T_medio={Tm2}+-{eTm2}')"
   ]
  },
  {
   "cell_type": "markdown",
   "metadata": {
    "id": "MXBiMuteBHaK"
   },
   "source": [
    "**Dados medidos no começo do experimento**"
   ]
  },
  {
   "cell_type": "code",
   "execution_count": 113,
   "metadata": {
    "id": "-5elyTB5rKkj"
   },
   "outputs": [
    {
     "name": "stdout",
     "output_type": "stream",
     "text": [
      "[0.29532564 0.16559021]\n",
      "[4.45257075e-05 4.22827352e-05]\n"
     ]
    }
   ],
   "source": [
    "#Tudo no SI\n",
    "u = 0.004\n",
    "eu = 0.00003\n",
    "\n",
    "r = 0.002\n",
    "er = 0.00003\n",
    "\n",
    "R=0.01263\n",
    "eR=0.00003\n",
    "\n",
    "R_1 =0.00405\n",
    "eR_1 =0.00003\n",
    "\n",
    "M = 0.02839\n",
    "eM = 0.00002\n",
    "\n",
    "m = 0.07553\n",
    "em = 0.00001\n",
    "\n",
    "l=0.35500\n",
    "el=0.00005\n",
    "\n",
    "L = 0.026\n",
    "eL = 0.00005\n",
    "\n",
    "h = 0.02\n",
    "eh=0.00005\n",
    "\n",
    "g=9.8\n",
    "\n",
    "z = np.array([0.3345,0.156])\n",
    "ez = np.array([0.00005,0.00005])\n",
    "\n",
    "Lcm= np.ones(2)\n",
    "eLcm= np.ones(2)\n",
    "for i in range(2):\n",
    "    Lcm[i]= (M*(l-L)/2+m*(h/2+z[i]))/(M+m)\n",
    "    eLcm[i] = np.sqrt(2*(M*el/(2*M+2*m))**2+(m*eh/(2*M+2*m))**2+(m*ez[i]/(M+m))**2 +2*em**2*((l-L-(M*(l-L)+m*(h/2+z[i])*2)/(4*(M+m)**2))**2 ))\n",
    "print(Lcm)\n",
    "print(eLcm)"
   ]
  },
  {
   "cell_type": "markdown",
   "metadata": {},
   "source": [
    "CalcuLAR VALOR EXPERIMENTAL DE I\n",
    "\n",
    "$I = \\frac{T^2(M+m)gL_{CM}}{4 \\pi^2}$\n",
    "\n",
    "$\\sigma_I = \\frac{1}{2 \\pi}\\sqrt{ (T(M+m)gL_{CM}\\sigma_T)^2 + 2(T^2gL_{CM}\\sigma_M)^2+(T^2(M+m)g\\sigma_{LCM})^2   }$"
   ]
  },
  {
   "cell_type": "code",
   "execution_count": 114,
   "metadata": {},
   "outputs": [
    {
     "name": "stdout",
     "output_type": "stream",
     "text": [
      "I_EXP1 = 0.010160387986266816+-5.026567876002726e-05\n",
      "I_EXP2 = 0.0032012709725956173+-1.1107059767343358e-05\n"
     ]
    }
   ],
   "source": [
    "print(f'I_EXP1 = {Tm1**2*(M+m)*g*Lcm[0]/(4*np.pi**2)}+-{np.sqrt( (Tm1*(M+m)*g*Lcm[0]*eTm1)**2 + 2*(Tm1**2*g*Lcm[0]*eM)**2+(eTm1**2*(M+m)*g*eLcm[0])**2)/(2*np.pi)}')\n",
    "print(f'I_EXP2 = {Tm2**2*(M+m)*g*Lcm[1]/(4*np.pi**2)}+-{np.sqrt( (Tm2*(M+m)*g*Lcm[1]*eTm2)**2 + 2*(eTm2**2*g*Lcm[1]*eM)**2+(eTm2**2*(M+m)*g*eLcm[1])**2)/(2*np.pi)}')\n",
    "\n"
   ]
  },
  {
   "cell_type": "markdown",
   "metadata": {
    "id": "d8gdKCUdCeMa"
   },
   "source": [
    "---\n",
    "---\n",
    "---\n",
    "**Calcular Momento de Inercia para cada situação**\n",
    "\n",
    "Sabendo que $I_{sis} = m \\left (  \\frac{1}{3} h^2 + \\frac{1}{4}(R^2+R_i^2) + (z+h/2)^2\\right ) + M \\left ( \\frac{1}{4}(u^2+r^2) + \\frac{1}{3} (L^2-lL+l^2)\\right)$\n",
    "\n",
    "$\\sigma_{Isist} = \\sqrt{ \\sigma_m^2\\left ( \\frac{h^2}{3}+\\frac{R_e^2+R_i^2}{4}+z^2 \\right )^2 + \\sigma_M^2 \\left ( \\frac{u^2+r^2}{4} + \\frac{L^2-Ll+l^2}{3} \\right )^2 + \\left ( m \\sigma_h \\frac{2}{3}\\right )^2 + \\left( mR_e\\frac{2\\sigma_{Re}}{4}\\right )^2  +\\left( mR_i\\frac{2\\sigma_{Ri}}{4}\\right )^2 + \\left ( 2mz\\sigma_z \\right )^2 + \\left ( M \\frac{2u\\sigma_u}{4}\\right )^2 + \\left ( M \\frac{2r\\sigma_r}{4}\\right )^2 + \\left ( M \\sigma_L \\frac{2L-l}{3}\\right )^2 + \\left ( M \\sigma_l \\frac{2l-L}{3}\\right )^2  }$\n",
    "\n",
    "com altura do corpo metálico $h$, raios internos e externo da haste $r$ e $u$, raio do corpo metálico $R$, distância do corpo metálico ao pivo $z$ e alturas da haste $L$ e $l$.\n",
    "\n"
   ]
  },
  {
   "cell_type": "code",
   "execution_count": 117,
   "metadata": {
    "colab": {
     "base_uri": "https://localhost:8080/"
    },
    "id": "zgvpwJxdq-Uk",
    "outputId": "33e10631-38bd-4097-894b-3ec1ea8af6b9"
   },
   "outputs": [
    {
     "name": "stdout",
     "output_type": "stream",
     "text": [
      "I_1 = (0.010089+-3e-06)\n",
      "I_2 = (0.003207+-2e-06)\n"
     ]
    }
   ],
   "source": [
    "import numpy as np\n",
    "\n",
    "I=np.ones(len(z))\n",
    "eI = np.ones(len(z))\n",
    "for i in range(len(z)):\n",
    "  I[i] = m* (h**2/3+(R**2+R_1**2)/4+(z[i]+h/2)**2)+M*(1/4*(u**2+r**2)+1/3*(L**2-l*L+l**2)) \n",
    "  eI[i] = np.sqrt((em* (h**2/3+R**2/4+z[i]**2))**2 + (eM*(1/4*(u**2+r**2)+1/3*(L**2-l*L+l**2)))**2+(m* (h*2/3)*eh)**2 + m**2*(R*2/4*eR)**2 +m**2*(z[i]*2*ez[i])**2+ (M*(1/4*(u*2*eu)))**2+ (M*(1/4*(r*2*er)))**2 + (M*(1/3*(L*2-l)*eL))**2+(M*(1/3*(-L+l*2)*el)**2))\n",
    "  print(f'I_{i+1} = ({round(I[i],6)}+-{round(eI[i],6)})')"
   ]
  },
  {
   "cell_type": "markdown",
   "metadata": {},
   "source": [
    "Espero que Frequencia seja\n",
    "\n",
    "$\\omega^2 =\\frac{M_tgL_{CM}}{I} - \\frac{b^2}{4I^2}$"
   ]
  },
  {
   "cell_type": "code",
   "execution_count": 118,
   "metadata": {},
   "outputs": [
    {
     "name": "stdout",
     "output_type": "stream",
     "text": [
      "w_1 = 5.459922980414185\n",
      "T_1=1.1507827728923292\n",
      "w_2 = 7.2521017641706464\n",
      "T_2=0.8663950826258343\n"
     ]
    }
   ],
   "source": [
    "for i in range(2):\n",
    "    w = np.sqrt((M+m)*g*Lcm[i]/I[i])\n",
    "    print(f'w_{i+1} = {w}')\n",
    "    print(f'T_{i+1}={2*np.pi/w}')"
   ]
  },
  {
   "cell_type": "markdown",
   "metadata": {
    "id": "Tf3NCJbZMIzf"
   },
   "source": [
    "---\n",
    "---\n",
    "---\n",
    "---\n",
    "---"
   ]
  },
  {
   "cell_type": "markdown",
   "metadata": {},
   "source": [
    "**Segunda parte do experimento, achar coeficiente de amortecimento**"
   ]
  },
  {
   "cell_type": "code",
   "execution_count": 119,
   "metadata": {},
   "outputs": [],
   "source": [
    "#Adicionar excel aqui e ler ele\n",
    "import pandas as pd\n",
    "x= [[],[],[]]\n",
    "y = [[],[],[]]\n",
    "for i in range(3):\n",
    "    data3 = pd.read_csv(f'DadosAtrito1\\conf_atrito_1_pos_angular_{i+1}.txt',sep =\"\t\")\n",
    "    y[i] = data3['Posicao angular ( rad )'].values\n",
    "    x[i] = data3['Tempo ( s )'].values\n"
   ]
  },
  {
   "cell_type": "code",
   "execution_count": 88,
   "metadata": {},
   "outputs": [],
   "source": [
    "from scipy.signal import find_peaks\n",
    "import numpy as np\n",
    "\n",
    "ind2 = [[],[],[]]\n",
    "for i in range(3):\n",
    "    peaks= find_peaks(y[i],height=0)\n",
    "    ind2[i] = peaks[0]\n",
    "\n",
    "\n",
    "#variaveis que vou usar\n",
    "th3= [np.ones(len(ind2[0])),np.ones(len(ind2[1])),\n",
    "      np.ones(len(ind2[2]))] #picos\n",
    "t_peaks3 =  [np.ones(len(ind2[0])),np.ones(len(ind2[1])),\n",
    "             np.ones(len(ind2[2]))] #tempos de picos\n",
    "#arrumar tempos e picos\n",
    "\n",
    "for j in range(len(ind2)):\n",
    "    u = 0\n",
    "    for i in ind2[j]:\n",
    "        t_peaks3[j][u]=x[j][i]\n",
    "        th3[j][u] = y[j][i]\n",
    "        u=u+1\n"
   ]
  },
  {
   "cell_type": "code",
   "execution_count": 89,
   "metadata": {},
   "outputs": [
    {
     "data": {
      "image/png": "[encoded data removed]",
      "text/plain": [
       "<Figure size 432x288 with 1 Axes>"
      ]
     },
     "metadata": {
      "needs_background": "light"
     },
     "output_type": "display_data"
    }
   ],
   "source": [
    "from matplotlib import pyplot as plt\n",
    "\n",
    "plt.plot(x[2],y[2],'o',color='gray')\n",
    "plt.plot(t_peaks3[2], th3[2], \"x\",color='red')\n",
    "\n",
    "\n",
    "plt.ylabel('Ângulo (rad)')\n",
    "plt.xlabel('Tempo percorrido (s)')\n",
    "#plt.ylim(0,0.27)\n",
    "#plt.xlim(2,15)\n",
    "plt.title('Ângulo(rad) VS Tempo percorrido (s)')\n",
    "plt.show()"
   ]
  },
  {
   "cell_type": "markdown",
   "metadata": {},
   "source": [
    "**Agora fazer ajuste linear dos dados usando a função Scipy**"
   ]
  },
  {
   "cell_type": "code",
   "execution_count": 99,
   "metadata": {},
   "outputs": [
    {
     "name": "stdout",
     "output_type": "stream",
     "text": [
      "a=[0.12703722 0.10214305 0.10784991]+-[0.00189096 0.00087387] \n",
      "b=[0.03934622 0.03458402 0.04283605]+-[0.00635085 0.00349019] \n"
     ]
    }
   ],
   "source": [
    "from scipy.optimize import curve_fit\n",
    "from scipy import optimize \n",
    "\n",
    "\n",
    "def model_fit(x, a, b):\n",
    "    return a*np.e**(-b*x)\n",
    "a_opt = np.ones(3)\n",
    "b_opt=np.ones(3)\n",
    "std=[[],[],[]]\n",
    "for i in range(3):\n",
    "    parameters, covariance = curve_fit(model_fit,t_peaks3[i], th3[i],p0=[0.18,0.02])\n",
    "    a_opt[i], b_opt[i]= parameters\n",
    "    #calculo do erro\n",
    "    std[i] = np.sqrt(np.diag(covariance))\n",
    "\n",
    "\n",
    "print(f'a={a_opt}+-{std[0]} ')\n",
    "print(f'b={b_opt}+-{std[1]} ')\n"
   ]
  },
  {
   "cell_type": "code",
   "execution_count": 100,
   "metadata": {},
   "outputs": [
    {
     "data": {
      "image/png": "[encoded data removed]",
      "text/plain": [
       "<Figure size 432x288 with 1 Axes>"
      ]
     },
     "metadata": {
      "needs_background": "light"
     },
     "output_type": "display_data"
    }
   ],
   "source": [
    "\n",
    "\n",
    "plt.plot(t_peaks3[0],th3[0],'o',color='black', label='Pontos Experimentais')\n",
    "plt.plot(x[0], model_fit(x[0],a_opt[0],b_opt[0]), \":\",color='red', label='Ajuste')\n",
    "\n",
    "plt.legend()\n",
    "plt.ylabel('Ângulo (rad)')\n",
    "plt.xlabel('Tempo percorrido (s)')\n",
    "#plt.ylim(0,0.27)\n",
    "plt.xlim(0,50)\n",
    "plt.title('Ângulo(rad) VS Tempo percorrido (s)')\n",
    "plt.show()"
   ]
  },
  {
   "cell_type": "markdown",
   "metadata": {},
   "source": [
    "Calculo da constante b\n",
    "\n",
    "$b = 2IG$\n",
    "\n",
    "$\\sigma_b = 2\\sqrt{(G\\sigma_I)^2+(I \\sigma_G)^2 }$"
   ]
  },
  {
   "cell_type": "code",
   "execution_count": 105,
   "metadata": {},
   "outputs": [
    {
     "name": "stdout",
     "output_type": "stream",
     "text": [
      "b = 0.0007535801499956712+-1.6738971241921687e-05\n",
      "b = 0.0006623719263100696+-6.684641574686891e-05\n",
      "b = 0.000820419375213292+-2.120822992314857e-05\n",
      "0.0007535801499956712\n"
     ]
    }
   ],
   "source": [
    "from statistics import median\n",
    "b1=np.ones(3)\n",
    "eb1=np.ones(3)\n",
    "for i in range(3):\n",
    "    b1[i] = 2*b_opt[i]*I[0]\n",
    "    eb1[i]= 2*np.sqrt( (b_opt[i]*eI[0])**2+ (I[0]*std[i][1])**2)\n",
    "    \n",
    "\n",
    "    print(f'b = {b1[i]}+-{eb1[i]}')\n"
   ]
  },
  {
   "cell_type": "code",
   "execution_count": null,
   "metadata": {},
   "outputs": [],
   "source": []
  }
 ],
 "metadata": {
  "colab": {
   "collapsed_sections": [],
   "provenance": []
  },
  "kernelspec": {
   "display_name": "Python 3 (ipykernel)",
   "language": "python",
   "name": "python3"
  },
  "language_info": {
   "codemirror_mode": {
    "name": "ipython",
    "version": 3
   },
   "file_extension": ".py",
   "mimetype": "text/x-python",
   "name": "python",
   "nbconvert_exporter": "python",
   "pygments_lexer": "ipython3",
   "version": "3.9.12"
  }
 },
 "nbformat": 4,
 "nbformat_minor": 1
}
