{
 "cells": [
  {
   "cell_type": "markdown",
   "id": "7cec615a",
   "metadata": {},
   "source": [
    "# **Analyse the approximation limit**"
   ]
  },
  {
   "cell_type": "code",
   "execution_count": 191,
   "id": "176b0d74",
   "metadata": {},
   "outputs": [],
   "source": [
    "import pandas as pd\n",
    "\n",
    "x = [[],[],[],[],[],[]] #6 dados de angulos\n",
    "t = [[],[],[],[],[],[]] #6 dados de tempo\n",
    "for i in range(len(x)):\n",
    "    data = pd.read_csv(f'altos_angulos_pos_{i+1}.txt', sep = \"\t\")\n",
    "    x[i] = data['Posicao angular ( rad )'].values\n",
    "    t[i] = data['Tempo ( s )'].values"
   ]
  },
  {
   "cell_type": "code",
   "execution_count": 192,
   "id": "bab2189f",
   "metadata": {},
   "outputs": [
    {
     "name": "stdout",
     "output_type": "stream",
     "text": [
      "0.379\n",
      "0.54\n",
      "0.748\n",
      "1.158\n",
      "0.88\n",
      "0.223\n"
     ]
    }
   ],
   "source": [
    "from scipy.signal import find_peaks\n",
    "import numpy as np\n",
    "\n",
    "ind = [[],[],[],[],[],[]]\n",
    "for i in range(len(x)):\n",
    "    peaks= find_peaks(x[i],height=0)\n",
    "    ind[i] = peaks[0]\n",
    "\n",
    "#variaveis que vou usar\n",
    "th= [np.ones(len(ind[0])),np.ones(len(ind[1])),np.ones(len(ind[2])),\n",
    "      np.ones(len(ind[3])),np.ones(len(ind[4])),np.ones(len(ind[5]))] #picos\n",
    "t_peaks =  [np.ones(len(ind[0])),np.ones(len(ind[1])),np.ones(len(ind[2])),\n",
    "      np.ones(len(ind[3])),np.ones(len(ind[4])),np.ones(len(ind[5]))] #tempos de picos\n",
    "#arrumar tempos e picos\n",
    "\n",
    "for j in range(len(ind)):\n",
    "    u = 0\n",
    "    for i in ind[j]:\n",
    "        t_peaks[j][u]=t[j][i]\n",
    "        th[j][u] = x[j][i]\n",
    "        u=u+1\n",
    "\n",
    "for j in range(len(ind)):\n",
    "    print(th[j][0])"
   ]
  },
  {
   "cell_type": "code",
   "execution_count": 193,
   "id": "fa0e62cb",
   "metadata": {},
   "outputs": [
    {
     "data": {
      "image/png": "[encoded data removed]",
      "text/plain": [
       "<Figure size 432x288 with 1 Axes>"
      ]
     },
     "metadata": {
      "needs_background": "light"
     },
     "output_type": "display_data"
    }
   ],
   "source": [
    "from matplotlib import pyplot as plt\n",
    "\n",
    "plt.plot(t[3],x[3],'o',color='gray')\n",
    "plt.plot(t_peaks[3], th[3], \"x\",color='red')\n",
    "\n",
    "\n",
    "plt.ylabel('Ângulo (rad)')\n",
    "plt.xlabel('Tempo percorrido (s)')\n",
    "#plt.ylim(0,0.27)\n",
    "#plt.xlim(2,15)\n",
    "plt.title('Ângulo(rad) VS Tempo percorrido (s)')\n",
    "plt.show()"
   ]
  },
  {
   "cell_type": "code",
   "execution_count": 200,
   "id": "a29a76ff",
   "metadata": {},
   "outputs": [
    {
     "name": "stdout",
     "output_type": "stream",
     "text": [
      "[[1.173, 1.163, 1.165, 1.163, 1.165, 1.165, 1.165, 1.163, 1.164, 1.164, 1.165, 1.162, 1.164, 1.164, 1.162, 1.163, 1.163, 1.164, 1.163, 1.162, 1.163, 1.162, 1.164], [1.175, 1.175, 1.175, 1.175, 1.175, 1.174, 1.174, 1.174, 1.174, 1.172, 1.173, 1.173, 1.173, 1.172, 1.172, 1.171, 1.172, 1.173, 1.17, 1.171, 1.171, 1.17, 1.173, 1.169, 1.169, 1.17], [1.46, 1.193, 1.187, 1.19, 1.189, 1.189, 1.188, 1.188, 1.187, 1.189, 1.185, 1.186, 1.185, 1.188, 1.183, 1.183, 1.186, 1.182, 1.182, 1.184, 1.182, 1.183, 1.18, 1.182, 1.183, 1.178, 1.182, 1.178, 1.18, 1.179], [0.682, 1.47, 1.25, 1.249, 1.246, 1.245, 1.243, 1.242, 1.238, 1.236, 1.235, 1.233, 1.233, 1.229, 1.229, 1.227, 1.226, 1.223, 1.225, 1.22, 1.22, 1.221, 1.216, 1.216, 1.216, 1.216, 1.212, 1.212], [1.284, 1.206, 1.204, 1.205, 1.203, 1.203, 1.202, 1.201, 1.201, 1.199, 1.2, 1.198, 1.197, 1.198, 1.195, 1.197, 1.194, 1.195, 1.193, 1.193, 1.193, 1.194, 1.189, 1.191, 1.191, 1.19, 1.189], [1.15, 1.16, 1.155, 1.155, 1.155, 1.16, 1.16, 1.15, 1.16, 1.155, 1.155, 1.16, 1.155, 1.155, 1.155, 1.155, 1.155, 1.16, 1.155, 1.155, 1.155, 1.16, 1.155, 1.15]]\n"
     ]
    }
   ],
   "source": [
    "T1 = [[],[],[],[],[],[]] #picos\n",
    "for u in range(6):\n",
    "    for i in range(len(t_peaks[u])-1):\n",
    "        T1[u].append(round(t_peaks[u][i+1]-t_peaks[u][i],3))\n",
    "    \n",
    "print(T1)#printar um intervalo ae"
   ]
  },
  {
   "cell_type": "code",
   "execution_count": 202,
   "id": "ca2b03b1",
   "metadata": {},
   "outputs": [
    {
     "name": "stdout",
     "output_type": "stream",
     "text": [
      "[4.64035661e-04 1.00000000e+00 1.00000000e+00 1.00000000e+00\n",
      " 1.00000000e+00 1.00000000e+00]\n",
      "[4.64035661e-04 3.77236918e-04 1.00000000e+00 1.00000000e+00\n",
      " 1.00000000e+00 1.00000000e+00]\n",
      "[4.64035661e-04 3.77236918e-04 9.20858545e-03 1.00000000e+00\n",
      " 1.00000000e+00 1.00000000e+00]\n",
      "[4.64035661e-04 3.77236918e-04 9.20858545e-03 2.17466994e-02\n",
      " 1.00000000e+00 1.00000000e+00]\n",
      "[4.64035661e-04 3.77236918e-04 9.20858545e-03 2.17466994e-02\n",
      " 3.36651732e-03 1.00000000e+00]\n",
      "[0.00046404 0.00037724 0.00920859 0.0217467  0.00336652 0.00065016]\n"
     ]
    }
   ],
   "source": [
    "T_m1 = np.ones(len(x))\n",
    "e_Tm1=np.ones(len(x))\n",
    "for u in range(len(x)):\n",
    "    sum=0\n",
    "    for i in T1[u]:\n",
    "        sum = sum+i\n",
    "    T_m1[u]=sum/len(T1[u])\n",
    "\n",
    "for u in range(len(x)):\n",
    "    et=0\n",
    "    for i in T1[u]:\n",
    "        et= et+ (T_m1[u]-i)**2\n",
    "    e_Tm1[u]=np.sqrt(et/(len(T1[u])*(len(T1[u])-1)))\n",
    "    print(e_Tm1)\n",
    "    #print(f'T = {round(T_m1[u],4)}+-{round(eT_m1[u],4)}')"
   ]
  },
  {
   "cell_type": "code",
   "execution_count": 203,
   "id": "c0555eda",
   "metadata": {},
   "outputs": [
    {
     "name": "stdout",
     "output_type": "stream",
     "text": [
      "[0.29532564 0.16559021]\n",
      "[4.45257075e-05 4.22827352e-05]\n"
     ]
    }
   ],
   "source": [
    "#Tudo no SI\n",
    "u = 0.004\n",
    "eu = 0.00003\n",
    "\n",
    "r = 0.002\n",
    "er = 0.00003\n",
    "\n",
    "R=0.01263\n",
    "eR=0.00003\n",
    "\n",
    "R_1 =0.00405\n",
    "eR_1 =0.00003\n",
    "\n",
    "M = 0.02839\n",
    "eM = 0.00002\n",
    "\n",
    "m = 0.07553\n",
    "em = 0.00001\n",
    "\n",
    "l=0.35500\n",
    "el=0.00005\n",
    "\n",
    "L = 0.026\n",
    "eL = 0.00005\n",
    "\n",
    "h = 0.02\n",
    "eh=0.00005\n",
    "\n",
    "g=9.8\n",
    "\n",
    "z = np.array([0.3345,0.156])\n",
    "ez = np.array([0.00005,0.00005])\n",
    "\n",
    "Lcm= np.ones(2)\n",
    "eLcm= np.ones(2)\n",
    "for i in range(2):\n",
    "    Lcm[i]= (M*(l-L)/2+m*(h/2+z[i]))/(M+m)\n",
    "    eLcm[i] = np.sqrt(2*(M*el/(2*M+2*m))**2+(m*eh/(2*M+2*m))**2+(m*ez[i]/(M+m))**2 +2*em**2*((l-L-(M*(l-L)+m*(h/2+z[i])*2)/(4*(M+m)**2))**2 ))\n",
    "print(Lcm)\n",
    "print(eLcm)"
   ]
  },
  {
   "cell_type": "code",
   "execution_count": 204,
   "id": "17d21b99",
   "metadata": {},
   "outputs": [
    {
     "name": "stdout",
     "output_type": "stream",
     "text": [
      "I_EXP0= 0.010321436374082608 +- 2.9136262791577094e-05\n",
      "I_EXP1= 0.010473511801637221 +- 2.945364377826826e-05\n",
      "I_EXP2= 0.010855679462886776 +- 3.024942562952829e-05\n",
      "I_EXP3= 0.011306130651232954 +- 3.118430228033733e-05\n",
      "I_EXP4= 0.010973954290199144 +- 3.049520864097255e-05\n",
      "I_EXP5= 0.010177873615536811 +- 2.8836254980621144e-05\n"
     ]
    }
   ],
   "source": [
    "I_e=np.ones(len(T1))\n",
    "e_Ie=np.ones(len(T1))\n",
    "for i in range(len(T1)):\n",
    "    I_e[i]=T_m1[i]**2*(M+m)*g*Lcm[0]/(4*np.pi**2)\n",
    "    e_Ie[i]=np.sqrt( (T_m1[i]*(M+m)*g*Lcm[0]*eT_m1[1])**2+ 2*(T_m1[i]**2*g*Lcm[0]*eM)**2+(T_m1[i]**2*(M+m)*g*eLcm[0])**2)/(2*np.pi)\n",
    "\n",
    "    print(f'I_EXP{i}= {I_e[i]} +- {e_Ie[i]}')\n"
   ]
  },
  {
   "cell_type": "code",
   "execution_count": 205,
   "id": "c99b13c8",
   "metadata": {},
   "outputs": [
    {
     "name": "stdout",
     "output_type": "stream",
     "text": [
      "I_1 = (0.010089+-3e-06)\n"
     ]
    }
   ],
   "source": [
    "import numpy as np\n",
    "\n",
    "I=0\n",
    "eI =0\n",
    "I = m* (h**2/3+(R**2+R_1**2)/4+(z[0]+h/2)**2)+M*(1/4*(u**2+r**2)+1/3*(L**2-l*L+l**2)) \n",
    "eI = np.sqrt((em* (h**2/3+R**2/4+z[0]**2))**2 + (eM*(1/4*(u**2+r**2)+1/3*(L**2-l*L+l**2)))**2+(m* (h*2/3)*eh)**2 + m**2*(R*2/4*eR)**2 +m**2*(z[0]*2*ez[0])**2+ (M*(1/4*(u*2*eu)))**2+ (M*(1/4*(r*2*er)))**2 + (M*(1/3*(L*2-l)*eL))**2+(M*(1/3*(-L+l*2)*el)**2))\n",
    "print(f'I_{1} = ({round(I,6)}+-{round(eI,6)})')"
   ]
  },
  {
   "cell_type": "code",
   "execution_count": 210,
   "id": "f6c2ad7f",
   "metadata": {},
   "outputs": [
    {
     "data": {
      "image/png": "[encoded data removed]",
      "text/plain": [
       "<Figure size 432x288 with 1 Axes>"
      ]
     },
     "metadata": {
      "needs_background": "light"
     },
     "output_type": "display_data"
    }
   ],
   "source": [
    "h = np.array([0.379,0.54,0.748,1.158,0.88,0.22]) \n",
    "color = ['gray','blue','red','yellow','green','']\n",
    "\n",
    "for i in range(len(h)):\n",
    "    #plt.plot(h[i],I_e[i],'o', label=f'Config. {theta[i]}')\n",
    "    plt.plot(h[i],I_e[i],'o',label=f'Config. {h[i]}')\n",
    "i=np.linspace(0,1.3,61)\n",
    "plt.plot(i,np.ones(len(i))*I,'-',label='I Teórico')\n",
    "\n",
    "plt.ylim(0.009,0.013)\n",
    "#plt.ylim(-0.7,0.7)\n",
    "plt.xlim(0.2,1.3)\n",
    "plt.legend()\n",
    "\n",
    "plt.title('Gráfico de Momento de Inércia por ângulo')\n",
    "plt.ylabel('Momento de Inércia calculado(kg $m^2$)')\n",
    "plt.xlabel('Angulo de partida (rad)')\n",
    "plt.show()"
   ]
  },
  {
   "cell_type": "code",
   "execution_count": 179,
   "id": "fce03d09",
   "metadata": {},
   "outputs": [
    {
     "name": "stdout",
     "output_type": "stream",
     "text": [
      "a=0.0013010278035066694+-7.919053327278382e-05 \n",
      "b=0.009822080913609305+-6.245627474814408e-05 \n"
     ]
    }
   ],
   "source": [
    "from scipy.optimize import curve_fit\n",
    "from scipy import optimize \n",
    "\n",
    "\n",
    "def model_fit(x, a, b):\n",
    "    return a*x+b\n",
    "\n",
    "a_opt = 0\n",
    "b_opt=0\n",
    "std=0\n",
    "\n",
    "parameters, covariance = curve_fit(model_fit,h,I_e,p0=[0.18,0.02])\n",
    "a_opt, b_opt= parameters\n",
    "\n",
    "#calculo do erro\n",
    "std = np.sqrt(np.diag(covariance))\n",
    "\n",
    "\n",
    "print(f'a={a_opt}+-{std[0]} ')\n",
    "print(f'b={b_opt}+-{std[1]} ')"
   ]
  },
  {
   "cell_type": "code",
   "execution_count": 180,
   "id": "62b76f23",
   "metadata": {},
   "outputs": [
    {
     "data": {
      "image/png": "[encoded data removed]",
      "text/plain": [
       "<Figure size 432x288 with 1 Axes>"
      ]
     },
     "metadata": {
      "needs_background": "light"
     },
     "output_type": "display_data"
    }
   ],
   "source": [
    "plt.errorbar(h,I_e,yerr=e_Ie,fmt='o',label='Pontos experimentais')\n",
    "k=np.linspace(0,2,60)\n",
    "plt.plot(k,k*a_opt+b_opt, '-',color='red',label='Ajuste Linear I=a $ \\\\theta $ +b')\n",
    "\n",
    "plt.ylim(0.009,0.013)\n",
    "#plt.ylim(-0.7,0.7)\n",
    "plt.xlim(0.2,1.3)\n",
    "\n",
    "plt.legend()\n",
    "plt.title('Gráfico de Momento de Inércia por ângulo')\n",
    "plt.ylabel('Momento de Inércia calculado(kg $m^2$)')\n",
    "plt.xlabel('Angulo de partida (rad)')\n",
    "\n",
    "plt.show()"
   ]
  },
  {
   "cell_type": "code",
   "execution_count": 167,
   "id": "fe2af805",
   "metadata": {},
   "outputs": [
    {
     "ename": "TypeError",
     "evalue": "loop of ufunc does not support argument 0 of type Symbol which has no callable sin method",
     "output_type": "error",
     "traceback": [
      "\u001b[1;31m---------------------------------------------------------------------------\u001b[0m",
      "\u001b[1;31mAttributeError\u001b[0m                            Traceback (most recent call last)",
      "\u001b[1;31mAttributeError\u001b[0m: 'Symbol' object has no attribute 'sin'",
      "\nThe above exception was the direct cause of the following exception:\n",
      "\u001b[1;31mTypeError\u001b[0m                                 Traceback (most recent call last)",
      "Input \u001b[1;32mIn [167]\u001b[0m, in \u001b[0;36m<cell line: 5>\u001b[1;34m()\u001b[0m\n\u001b[0;32m      1\u001b[0m \u001b[38;5;28;01mimport\u001b[39;00m \u001b[38;5;21;01msympy\u001b[39;00m \u001b[38;5;28;01mas\u001b[39;00m \u001b[38;5;21;01msp\u001b[39;00m\n\u001b[0;32m      3\u001b[0m R,te,z,r,h, u, l, L \u001b[38;5;241m=\u001b[39msp\u001b[38;5;241m.\u001b[39msymbols(\u001b[38;5;124m'\u001b[39m\u001b[38;5;124mR \u001b[39m\u001b[38;5;130;01m\\t\u001b[39;00m\u001b[38;5;124mheta z r h u l L\u001b[39m\u001b[38;5;124m'\u001b[39m)\n\u001b[1;32m----> 5\u001b[0m u \u001b[38;5;241m=\u001b[39m sp\u001b[38;5;241m.\u001b[39mintegrate(np\u001b[38;5;241m.\u001b[39msqrt(R\u001b[38;5;241m*\u001b[39m\u001b[38;5;241m*\u001b[39m\u001b[38;5;241m2\u001b[39m\u001b[38;5;241m*\u001b[39m\u001b[43mnp\u001b[49m\u001b[38;5;241;43m.\u001b[39;49m\u001b[43msin\u001b[49m\u001b[43m(\u001b[49m\u001b[43mte\u001b[49m\u001b[43m)\u001b[49m\u001b[38;5;241m*\u001b[39m\u001b[38;5;241m*\u001b[39m\u001b[38;5;241m2\u001b[39m\u001b[38;5;241m+\u001b[39mz\u001b[38;5;241m*\u001b[39m\u001b[38;5;241m*\u001b[39m\u001b[38;5;241m2\u001b[39m),z, (\u001b[38;5;241m-\u001b[39mh\u001b[38;5;241m/\u001b[39m\u001b[38;5;241m2\u001b[39m,h\u001b[38;5;241m/\u001b[39m\u001b[38;5;241m2\u001b[39m))\n",
      "\u001b[1;31mTypeError\u001b[0m: loop of ufunc does not support argument 0 of type Symbol which has no callable sin method"
     ]
    }
   ],
   "source": [
    "import sympy as sp\n",
    "\n",
    "R,te,z,r,h, u, l, L =sp.symbols('R \\theta z r h u l L')\n",
    "\n",
    "u = sp.integrate(np.sqrt(R**2*np.sin(te)**2+z**2),z, (-h/2,h/2))"
   ]
  },
  {
   "cell_type": "code",
   "execution_count": null,
   "id": "782b1394",
   "metadata": {},
   "outputs": [],
   "source": []
  }
 ],
 "metadata": {
  "kernelspec": {
   "display_name": "Python 3 (ipykernel)",
   "language": "python",
   "name": "python3"
  },
  "language_info": {
   "codemirror_mode": {
    "name": "ipython",
    "version": 3
   },
   "file_extension": ".py",
   "mimetype": "text/x-python",
   "name": "python",
   "nbconvert_exporter": "python",
   "pygments_lexer": "ipython3",
   "version": "3.9.12"
  }
 },
 "nbformat": 4,
 "nbformat_minor": 5
}
